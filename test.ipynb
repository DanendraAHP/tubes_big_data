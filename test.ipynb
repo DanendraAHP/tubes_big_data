{
 "cells": [
  {
   "attachments": {},
   "cell_type": "markdown",
   "metadata": {},
   "source": [
    "# Test training"
   ]
  },
  {
   "cell_type": "code",
   "execution_count": 1,
   "metadata": {},
   "outputs": [],
   "source": [
    "from src.dataset_utils import Dataset\n",
    "from src.model import TFModel"
   ]
  },
  {
   "cell_type": "code",
   "execution_count": 2,
   "metadata": {},
   "outputs": [],
   "source": [
    "train = True"
   ]
  },
  {
   "cell_type": "code",
   "execution_count": 3,
   "metadata": {},
   "outputs": [
    {
     "name": "stdout",
     "output_type": "stream",
     "text": [
      "--------------------now creating dataset--------------------\n",
      "-------------------splitting the dataset--------------------\n",
      "------------------make tensorflow dataset-------------------\n",
      "--------------------adapting vectorizer---------------------\n"
     ]
    }
   ],
   "source": [
    "#prepare the training data\n",
    "print('now creating dataset'.center(60, '-'))\n",
    "data = Dataset(train)\n",
    "data.prepare_training_data()\n"
   ]
  },
  {
   "cell_type": "code",
   "execution_count": 4,
   "metadata": {},
   "outputs": [
    {
     "name": "stdout",
     "output_type": "stream",
     "text": [
      "---------------------creating the model---------------------\n",
      "---------------------training the model---------------------\n",
      "Epoch 1/10\n",
      "6647/6650 [============================>.] - ETA: 0s - loss: 0.8821 - acc: 0.5825\n",
      "Epoch 1: val_acc improved from -inf to 0.65725, saving model to model/lstm_model\\cp.ckpt\n",
      "6650/6650 [==============================] - 99s 14ms/step - loss: 0.8820 - acc: 0.5827 - val_loss: 0.7990 - val_acc: 0.6572\n",
      "Epoch 2/10\n",
      "6649/6650 [============================>.] - ETA: 0s - loss: 0.5721 - acc: 0.7624\n",
      "Epoch 2: val_acc did not improve from 0.65725\n",
      "6650/6650 [==============================] - 92s 14ms/step - loss: 0.5722 - acc: 0.7623 - val_loss: 0.8170 - val_acc: 0.6470\n",
      "Epoch 3/10\n",
      "6649/6650 [============================>.] - ETA: 0s - loss: 0.3169 - acc: 0.8806\n",
      "Epoch 3: val_acc did not improve from 0.65725\n",
      "6650/6650 [==============================] - 92s 14ms/step - loss: 0.3168 - acc: 0.8806 - val_loss: 0.9134 - val_acc: 0.6452\n",
      "Epoch 4/10\n",
      "6648/6650 [============================>.] - ETA: 0s - loss: 0.1618 - acc: 0.9451\n",
      "Epoch 4: val_acc did not improve from 0.65725\n",
      "6650/6650 [==============================] - 89s 13ms/step - loss: 0.1618 - acc: 0.9451 - val_loss: 1.1566 - val_acc: 0.6380\n",
      "Epoch 5/10\n",
      "6646/6650 [============================>.] - ETA: 0s - loss: 0.0916 - acc: 0.9692\n",
      "Epoch 5: val_acc did not improve from 0.65725\n",
      "6650/6650 [==============================] - 89s 13ms/step - loss: 0.0916 - acc: 0.9692 - val_loss: 1.6917 - val_acc: 0.6236\n",
      "Epoch 6/10\n",
      "6649/6650 [============================>.] - ETA: 0s - loss: 0.0537 - acc: 0.9835\n",
      "Epoch 6: val_acc did not improve from 0.65725\n",
      "6650/6650 [==============================] - 90s 14ms/step - loss: 0.0537 - acc: 0.9835 - val_loss: 2.0177 - val_acc: 0.6302\n",
      "Epoch 6: early stopping\n",
      "evaluating the model\n",
      "1663/1663 [==============================] - 7s 4ms/step - loss: 2.0177 - acc: 0.6302\n",
      "0.6301864385604858\n"
     ]
    }
   ],
   "source": [
    "#train the model\n",
    "model = TFModel()\n",
    "model.train_and_eval(data.train_df, data.val_df)"
   ]
  },
  {
   "attachments": {},
   "cell_type": "markdown",
   "metadata": {},
   "source": [
    "# Test Inference"
   ]
  },
  {
   "cell_type": "code",
   "execution_count": 2,
   "metadata": {},
   "outputs": [],
   "source": [
    "train = False"
   ]
  },
  {
   "cell_type": "code",
   "execution_count": 3,
   "metadata": {},
   "outputs": [
    {
     "name": "stdout",
     "output_type": "stream",
     "text": [
      "--------------------now creating dataset--------------------\n"
     ]
    }
   ],
   "source": [
    "#prepare the inference data\n",
    "print('now creating dataset'.center(60, '-'))\n",
    "data = Dataset(train)\n",
    "data.prepare_inference_data()"
   ]
  },
  {
   "cell_type": "code",
   "execution_count": 4,
   "metadata": {},
   "outputs": [
    {
     "name": "stdout",
     "output_type": "stream",
     "text": [
      "500/500 [==============================] - 3s 3ms/step\n"
     ]
    }
   ],
   "source": [
    "model = TFModel()\n",
    "y = model.inference(data.df)"
   ]
  },
  {
   "cell_type": "code",
   "execution_count": 6,
   "metadata": {},
   "outputs": [],
   "source": [
    "import numpy as np"
   ]
  },
  {
   "cell_type": "code",
   "execution_count": 7,
   "metadata": {},
   "outputs": [
    {
     "data": {
      "text/plain": [
       "array([2, 0, 0, 2, 2, 1, 0, 1, 2, 2, 2, 0, 1, 0, 0, 0, 1, 2, 0, 0, 2, 2,\n",
       "       0, 0, 0, 2, 2, 0, 0, 2, 0, 1, 0, 2, 1, 2, 0, 0, 2, 2, 2, 0, 2, 2,\n",
       "       0, 1, 2, 0, 2, 1, 2, 1, 0, 2, 0, 0, 2, 1, 1, 0, 2, 0, 2, 2, 0, 0,\n",
       "       2, 2, 0, 2, 1, 1, 0, 2, 2, 0, 2, 0, 2, 2, 1, 2, 1, 2, 2, 0, 0, 1,\n",
       "       2, 0, 1, 2, 2, 2, 2, 2, 2, 0, 2, 2, 0, 0, 2, 0, 0, 0, 0, 2, 0, 1,\n",
       "       2, 0, 2, 2, 0, 1, 1, 0, 2, 0, 2, 2, 0, 0, 0, 0, 0, 0, 0, 2, 2, 2,\n",
       "       0, 2, 0, 2, 2, 1, 2, 2, 2, 0, 1, 0, 0, 0, 1, 1, 0, 2, 0, 2, 0, 2,\n",
       "       2, 1, 0, 2, 0, 1, 0, 0, 2, 0, 0, 0, 0, 1, 1, 1, 0, 1, 0, 1, 1, 0,\n",
       "       2, 2, 0, 0, 2, 0, 1, 0, 2, 1, 1, 2, 0, 1, 2, 1, 2, 0, 0, 0, 2, 1,\n",
       "       2, 1, 2, 1, 2, 1, 2, 0, 0, 1, 0, 0, 2, 0, 2, 2, 2, 2, 2, 2, 2, 0,\n",
       "       2, 0, 2, 2, 1, 2, 0, 0, 1, 2, 2, 2, 2, 2, 0, 0, 2, 0, 0, 2, 2, 0,\n",
       "       1, 1, 0, 1, 2, 2, 2, 0, 2, 0, 2, 2, 2, 2, 2, 0, 0, 1, 2, 1, 0, 0,\n",
       "       0, 0, 1, 0, 2, 2, 0, 0, 0, 1, 0, 0, 2, 2, 0, 2, 2, 0, 0, 2, 1, 2,\n",
       "       1, 0, 1, 0, 2, 2, 0, 0, 2, 0, 2, 2, 2, 2, 2, 0, 0, 2, 0, 0, 0, 0,\n",
       "       0, 0, 0, 2, 0, 1, 2, 2, 0, 0, 0, 2, 2, 2, 1, 0, 2, 0, 1, 0, 0, 0,\n",
       "       2, 0, 0, 0, 0, 0, 2, 0, 2, 2, 0, 1, 0, 1, 0, 0, 2, 2, 2, 0, 0, 2,\n",
       "       1, 2, 1, 2, 2, 2, 1, 0, 0, 0, 0, 2, 0, 2, 0, 2, 1, 0, 1, 0, 0, 1,\n",
       "       0, 0, 0, 0, 0, 0, 0, 0, 2, 0, 2, 2, 2, 0, 2, 1, 2, 0, 0, 1, 0, 2,\n",
       "       2, 1, 1, 0, 0, 2, 0, 2, 2, 2, 2, 1, 0, 0, 2, 0, 2, 2, 0, 0, 0, 2,\n",
       "       2, 2, 1, 2, 1, 1, 1, 0, 2, 2, 0, 0, 2, 2, 1, 0, 0, 2, 0, 0, 1, 0,\n",
       "       2, 2, 0, 0, 0, 1, 0, 1, 1, 0, 1, 2, 0, 1, 0, 0, 1, 0, 2, 2, 2, 1,\n",
       "       0, 0, 0, 0, 2, 0, 2, 1, 0, 2, 0, 2, 2, 2, 0, 0, 0, 1, 0, 0, 0, 2,\n",
       "       2, 0, 2, 2, 0, 1, 0, 2, 0, 2, 2, 2, 0, 0, 2, 0], dtype=int64)"
      ]
     },
     "execution_count": 7,
     "metadata": {},
     "output_type": "execute_result"
    }
   ],
   "source": [
    "np.argmax(y, axis=1)"
   ]
  },
  {
   "cell_type": "code",
   "execution_count": 13,
   "metadata": {},
   "outputs": [
    {
     "name": "stdout",
     "output_type": "stream",
     "text": [
      "500/500 [==============================] - 2s 3ms/step\n"
     ]
    },
    {
     "data": {
      "text/plain": [
       "array([[0.00754483, 0.11933167, 0.87312347],\n",
       "       [0.6369501 , 0.23918152, 0.12386839],\n",
       "       [0.43197018, 0.3414396 , 0.2265902 ],\n",
       "       ...,\n",
       "       [0.5837515 , 0.26018122, 0.15606733],\n",
       "       [0.05568497, 0.22663596, 0.7176791 ],\n",
       "       [0.73668855, 0.1678365 , 0.09547488]], dtype=float32)"
      ]
     },
     "execution_count": 13,
     "metadata": {},
     "output_type": "execute_result"
    }
   ],
   "source": [
    "model.model.predict(data.df)"
   ]
  },
  {
   "cell_type": "code",
   "execution_count": null,
   "metadata": {},
   "outputs": [],
   "source": []
  },
  {
   "cell_type": "code",
   "execution_count": 12,
   "metadata": {},
   "outputs": [
    {
     "name": "stdout",
     "output_type": "stream",
     "text": [
      "tf.Tensor(\n",
      "[[  52  279 1047 1958  277  102  144    7    0    0    0    0    0    0\n",
      "     0    0    0    0    0    0    0    0    0    0    0    0    0    0\n",
      "     0    0    0    0    0    0    0    0    0    0    0    0    0    0\n",
      "     0    0    0    0    0    0    0    0    0    0    0    0    0    0\n",
      "     0    0    0    0    0    0    0    0    0    0    0    0    0    0\n",
      "     0    0    0    0    0    0    0    0    0    0    0    0    0    0\n",
      "     0    0    0    0    0    0    0    0    0    0    0    0    0    0\n",
      "     0    0]], shape=(1, 100), dtype=int64)\n",
      "tf.Tensor(\n",
      "[[ 347   47 4411  571  413  125    7    3   14 1923 2135   41  157 4308\n",
      "   130    5  610 1780   14    2  242 1761 1742  328    0    0    0    0\n",
      "     0    0    0    0    0    0    0    0    0    0    0    0    0    0\n",
      "     0    0    0    0    0    0    0    0    0    0    0    0    0    0\n",
      "     0    0    0    0    0    0    0    0    0    0    0    0    0    0\n",
      "     0    0    0    0    0    0    0    0    0    0    0    0    0    0\n",
      "     0    0    0    0    0    0    0    0    0    0    0    0    0    0\n",
      "     0    0]], shape=(1, 100), dtype=int64)\n",
      "tf.Tensor(\n",
      "[[ 2873    92   195 15168  1463    54 16295  1708  5203   131     2   832\n",
      "    180    13  7833  1140  6957   642   123   151  1106  2435   191  2241\n",
      "      4     3   181    13 11556  7466  4084    17    26    92    32  5357\n",
      "  12131   430  4325     0     0     0     0     0     0     0     0     0\n",
      "      0     0     0     0     0     0     0     0     0     0     0     0\n",
      "      0     0     0     0     0     0     0     0     0     0     0     0\n",
      "      0     0     0     0     0     0     0     0     0     0     0     0\n",
      "      0     0     0     0     0     0     0     0     0     0     0     0\n",
      "      0     0     0     0]], shape=(1, 100), dtype=int64)\n"
     ]
    }
   ],
   "source": [
    "for row in data.df.take(3):\n",
    "    print(row)"
   ]
  },
  {
   "cell_type": "code",
   "execution_count": null,
   "metadata": {},
   "outputs": [],
   "source": []
  }
 ],
 "metadata": {
  "kernelspec": {
   "display_name": "base",
   "language": "python",
   "name": "python3"
  },
  "language_info": {
   "codemirror_mode": {
    "name": "ipython",
    "version": 3
   },
   "file_extension": ".py",
   "mimetype": "text/x-python",
   "name": "python",
   "nbconvert_exporter": "python",
   "pygments_lexer": "ipython3",
   "version": "3.9.7"
  },
  "orig_nbformat": 4
 },
 "nbformat": 4,
 "nbformat_minor": 2
}
