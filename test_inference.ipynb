{
 "cells": [
  {
   "cell_type": "code",
   "execution_count": 2,
   "metadata": {},
   "outputs": [
    {
     "name": "stderr",
     "output_type": "stream",
     "text": [
      "2023-03-17 10:11:43.730477: I tensorflow/core/platform/cpu_feature_guard.cc:193] This TensorFlow binary is optimized with oneAPI Deep Neural Network Library (oneDNN) to use the following CPU instructions in performance-critical operations:  SSE4.1 SSE4.2\n",
      "To enable them in other operations, rebuild TensorFlow with the appropriate compiler flags.\n"
     ]
    }
   ],
   "source": [
    "from src.dataset_utils import Dataset\n",
    "from src.model import TFModel"
   ]
  },
  {
   "cell_type": "markdown",
   "metadata": {},
   "source": [
    "# Prepare Dataset"
   ]
  },
  {
   "cell_type": "code",
   "execution_count": 6,
   "metadata": {},
   "outputs": [
    {
     "name": "stderr",
     "output_type": "stream",
     "text": [
      "                                                                                \r"
     ]
    }
   ],
   "source": [
    "df = sqlContext.read.parquet(\"hdfs://localhost:9000/youtubeParquet/*.parquet\")\n",
    "pd_df = df.toPandas()"
   ]
  },
  {
   "cell_type": "code",
   "execution_count": 7,
   "metadata": {},
   "outputs": [],
   "source": [
    "pd_df = pd_df.rename(columns={\n",
    "    '_1' : 'video_id',\n",
    "    '_2' : 'description',\n",
    "    '_3' : 'published_at',\n",
    "    '_4' : 'channel_name',\n",
    "    '_5' : 'video_title'\n",
    "})\n",
    "pd_df = pd_df.drop_duplicates(subset='video_id')"
   ]
  },
  {
   "cell_type": "code",
   "execution_count": 8,
   "metadata": {},
   "outputs": [
    {
     "data": {
      "text/html": [
       "<div>\n",
       "<style scoped>\n",
       "    .dataframe tbody tr th:only-of-type {\n",
       "        vertical-align: middle;\n",
       "    }\n",
       "\n",
       "    .dataframe tbody tr th {\n",
       "        vertical-align: top;\n",
       "    }\n",
       "\n",
       "    .dataframe thead th {\n",
       "        text-align: right;\n",
       "    }\n",
       "</style>\n",
       "<table border=\"1\" class=\"dataframe\">\n",
       "  <thead>\n",
       "    <tr style=\"text-align: right;\">\n",
       "      <th></th>\n",
       "      <th>video_id</th>\n",
       "      <th>description</th>\n",
       "      <th>published_at</th>\n",
       "      <th>channel_name</th>\n",
       "      <th>video_title</th>\n",
       "    </tr>\n",
       "  </thead>\n",
       "  <tbody>\n",
       "    <tr>\n",
       "      <th>0</th>\n",
       "      <td>poZtdyC24P4</td>\n",
       "      <td>Tutorial belajar bahasa pemrograman komputer d...</td>\n",
       "      <td>2023-02-24T23:45:01Z</td>\n",
       "      <td>Dea Afrizal</td>\n",
       "      <td>Belajar Dasar Pemrograman Untuk Pemula Menggun...</td>\n",
       "    </tr>\n",
       "    <tr>\n",
       "      <th>1</th>\n",
       "      <td>rfscVS0vtbw</td>\n",
       "      <td>This course will give you a full introduction ...</td>\n",
       "      <td>2018-07-11T18:00:42Z</td>\n",
       "      <td>freeCodeCamp.org</td>\n",
       "      <td>Learn Python - Full Course for Beginners [Tuto...</td>\n",
       "    </tr>\n",
       "    <tr>\n",
       "      <th>2</th>\n",
       "      <td>xETkm9H6aaY</td>\n",
       "      <td>Yuk Belajar Python dasar di seri Tutorial Pyth...</td>\n",
       "      <td>2023-02-13T10:00:36Z</td>\n",
       "      <td>Kelas Terbuka</td>\n",
       "      <td>Belajar Python [Dasar] - 02a - Installasi Pyth...</td>\n",
       "    </tr>\n",
       "    <tr>\n",
       "      <th>3</th>\n",
       "      <td>_uQrJ0TkZlc</td>\n",
       "      <td>Python tutorial - Python full course for begin...</td>\n",
       "      <td>2019-02-18T15:00:08Z</td>\n",
       "      <td>Programming with Mosh</td>\n",
       "      <td>Python Tutorial - Python Full Course for Begin...</td>\n",
       "    </tr>\n",
       "    <tr>\n",
       "      <th>4</th>\n",
       "      <td>kqtD5dpn9C8</td>\n",
       "      <td>This Python tutorial for beginners show how to...</td>\n",
       "      <td>2020-09-16T13:00:20Z</td>\n",
       "      <td>Programming with Mosh</td>\n",
       "      <td>Python for Beginners - Learn Python in 1 Hour</td>\n",
       "    </tr>\n",
       "  </tbody>\n",
       "</table>\n",
       "</div>"
      ],
      "text/plain": [
       "      video_id                                        description  \\\n",
       "0  poZtdyC24P4  Tutorial belajar bahasa pemrograman komputer d...   \n",
       "1  rfscVS0vtbw  This course will give you a full introduction ...   \n",
       "2  xETkm9H6aaY  Yuk Belajar Python dasar di seri Tutorial Pyth...   \n",
       "3  _uQrJ0TkZlc  Python tutorial - Python full course for begin...   \n",
       "4  kqtD5dpn9C8  This Python tutorial for beginners show how to...   \n",
       "\n",
       "           published_at           channel_name  \\\n",
       "0  2023-02-24T23:45:01Z            Dea Afrizal   \n",
       "1  2018-07-11T18:00:42Z       freeCodeCamp.org   \n",
       "2  2023-02-13T10:00:36Z          Kelas Terbuka   \n",
       "3  2019-02-18T15:00:08Z  Programming with Mosh   \n",
       "4  2020-09-16T13:00:20Z  Programming with Mosh   \n",
       "\n",
       "                                         video_title  \n",
       "0  Belajar Dasar Pemrograman Untuk Pemula Menggun...  \n",
       "1  Learn Python - Full Course for Beginners [Tuto...  \n",
       "2  Belajar Python [Dasar] - 02a - Installasi Pyth...  \n",
       "3  Python Tutorial - Python Full Course for Begin...  \n",
       "4      Python for Beginners - Learn Python in 1 Hour  "
      ]
     },
     "execution_count": 8,
     "metadata": {},
     "output_type": "execute_result"
    }
   ],
   "source": [
    "pd_df.head()"
   ]
  },
  {
   "cell_type": "code",
   "execution_count": 6,
   "metadata": {},
   "outputs": [],
   "source": [
    "pd_df.to_csv('data/youtube-api.csv', index=False)"
   ]
  },
  {
   "cell_type": "markdown",
   "metadata": {},
   "source": [
    "# Inference"
   ]
  },
  {
   "cell_type": "code",
   "execution_count": 4,
   "metadata": {},
   "outputs": [
    {
     "name": "stdout",
     "output_type": "stream",
     "text": [
      "--------------------now creating dataset--------------------\n"
     ]
    }
   ],
   "source": [
    "train = False\n",
    "#prepare the inference data\n",
    "print('now creating dataset'.center(60, '-'))\n",
    "data = Dataset(train)\n",
    "data.prepare_inference_data()"
   ]
  },
  {
   "cell_type": "code",
   "execution_count": 5,
   "metadata": {},
   "outputs": [
    {
     "name": "stdout",
     "output_type": "stream",
     "text": [
      "66/66 [==============================] - 1s 14ms/step\n"
     ]
    }
   ],
   "source": [
    "model = TFModel()\n",
    "y = model.inference(data.df)"
   ]
  },
  {
   "cell_type": "code",
   "execution_count": 17,
   "metadata": {},
   "outputs": [],
   "source": [
    "pd_df['sentiment'] = y"
   ]
  },
  {
   "cell_type": "code",
   "execution_count": 18,
   "metadata": {},
   "outputs": [
    {
     "data": {
      "text/html": [
       "<div>\n",
       "<style scoped>\n",
       "    .dataframe tbody tr th:only-of-type {\n",
       "        vertical-align: middle;\n",
       "    }\n",
       "\n",
       "    .dataframe tbody tr th {\n",
       "        vertical-align: top;\n",
       "    }\n",
       "\n",
       "    .dataframe thead th {\n",
       "        text-align: right;\n",
       "    }\n",
       "</style>\n",
       "<table border=\"1\" class=\"dataframe\">\n",
       "  <thead>\n",
       "    <tr style=\"text-align: right;\">\n",
       "      <th></th>\n",
       "      <th>video_id</th>\n",
       "      <th>description</th>\n",
       "      <th>published_at</th>\n",
       "      <th>channel_name</th>\n",
       "      <th>video_title</th>\n",
       "      <th>sentiment</th>\n",
       "    </tr>\n",
       "  </thead>\n",
       "  <tbody>\n",
       "    <tr>\n",
       "      <th>0</th>\n",
       "      <td>poZtdyC24P4</td>\n",
       "      <td>Tutorial belajar bahasa pemrograman komputer d...</td>\n",
       "      <td>2023-02-24T23:45:01Z</td>\n",
       "      <td>Dea Afrizal</td>\n",
       "      <td>Belajar Dasar Pemrograman Untuk Pemula Menggun...</td>\n",
       "      <td>0</td>\n",
       "    </tr>\n",
       "    <tr>\n",
       "      <th>1</th>\n",
       "      <td>rfscVS0vtbw</td>\n",
       "      <td>This course will give you a full introduction ...</td>\n",
       "      <td>2018-07-11T18:00:42Z</td>\n",
       "      <td>freeCodeCamp.org</td>\n",
       "      <td>Learn Python - Full Course for Beginners [Tuto...</td>\n",
       "      <td>1</td>\n",
       "    </tr>\n",
       "    <tr>\n",
       "      <th>2</th>\n",
       "      <td>xETkm9H6aaY</td>\n",
       "      <td>Yuk Belajar Python dasar di seri Tutorial Pyth...</td>\n",
       "      <td>2023-02-13T10:00:36Z</td>\n",
       "      <td>Kelas Terbuka</td>\n",
       "      <td>Belajar Python [Dasar] - 02a - Installasi Pyth...</td>\n",
       "      <td>2</td>\n",
       "    </tr>\n",
       "    <tr>\n",
       "      <th>3</th>\n",
       "      <td>_uQrJ0TkZlc</td>\n",
       "      <td>Python tutorial - Python full course for begin...</td>\n",
       "      <td>2019-02-18T15:00:08Z</td>\n",
       "      <td>Programming with Mosh</td>\n",
       "      <td>Python Tutorial - Python Full Course for Begin...</td>\n",
       "      <td>1</td>\n",
       "    </tr>\n",
       "    <tr>\n",
       "      <th>4</th>\n",
       "      <td>kqtD5dpn9C8</td>\n",
       "      <td>This Python tutorial for beginners show how to...</td>\n",
       "      <td>2020-09-16T13:00:20Z</td>\n",
       "      <td>Programming with Mosh</td>\n",
       "      <td>Python for Beginners - Learn Python in 1 Hour</td>\n",
       "      <td>1</td>\n",
       "    </tr>\n",
       "  </tbody>\n",
       "</table>\n",
       "</div>"
      ],
      "text/plain": [
       "      video_id                                        description  \\\n",
       "0  poZtdyC24P4  Tutorial belajar bahasa pemrograman komputer d...   \n",
       "1  rfscVS0vtbw  This course will give you a full introduction ...   \n",
       "2  xETkm9H6aaY  Yuk Belajar Python dasar di seri Tutorial Pyth...   \n",
       "3  _uQrJ0TkZlc  Python tutorial - Python full course for begin...   \n",
       "4  kqtD5dpn9C8  This Python tutorial for beginners show how to...   \n",
       "\n",
       "           published_at           channel_name  \\\n",
       "0  2023-02-24T23:45:01Z            Dea Afrizal   \n",
       "1  2018-07-11T18:00:42Z       freeCodeCamp.org   \n",
       "2  2023-02-13T10:00:36Z          Kelas Terbuka   \n",
       "3  2019-02-18T15:00:08Z  Programming with Mosh   \n",
       "4  2020-09-16T13:00:20Z  Programming with Mosh   \n",
       "\n",
       "                                         video_title  sentiment  \n",
       "0  Belajar Dasar Pemrograman Untuk Pemula Menggun...          0  \n",
       "1  Learn Python - Full Course for Beginners [Tuto...          1  \n",
       "2  Belajar Python [Dasar] - 02a - Installasi Pyth...          2  \n",
       "3  Python Tutorial - Python Full Course for Begin...          1  \n",
       "4      Python for Beginners - Learn Python in 1 Hour          1  "
      ]
     },
     "execution_count": 18,
     "metadata": {},
     "output_type": "execute_result"
    }
   ],
   "source": [
    "pd_df.head()"
   ]
  },
  {
   "cell_type": "code",
   "execution_count": 11,
   "metadata": {},
   "outputs": [],
   "source": [
    "from pyspark.sql import SparkSession"
   ]
  },
  {
   "cell_type": "code",
   "execution_count": 12,
   "metadata": {},
   "outputs": [
    {
     "name": "stdout",
     "output_type": "stream",
     "text": [
      "root\n",
      " |-- video_id: string (nullable = true)\n",
      " |-- description: string (nullable = true)\n",
      " |-- published_at: string (nullable = true)\n",
      " |-- channel_name: string (nullable = true)\n",
      " |-- video_title: string (nullable = true)\n",
      " |-- sentiment: long (nullable = true)\n",
      "\n",
      "+-----------+--------------------+--------------------+--------------------+--------------------+---------+\n",
      "|   video_id|         description|        published_at|        channel_name|         video_title|sentiment|\n",
      "+-----------+--------------------+--------------------+--------------------+--------------------+---------+\n",
      "|poZtdyC24P4|Tutorial belajar ...|2023-02-24T23:45:01Z|         Dea Afrizal|Belajar Dasar Pem...|        0|\n",
      "|rfscVS0vtbw|This course will ...|2018-07-11T18:00:42Z|    freeCodeCamp.org|Learn Python - Fu...|        1|\n",
      "|xETkm9H6aaY|Yuk Belajar Pytho...|2023-02-13T10:00:36Z|       Kelas Terbuka|Belajar Python [D...|        2|\n",
      "|_uQrJ0TkZlc|Python tutorial -...|2019-02-18T15:00:08Z|Programming with ...|Python Tutorial -...|        1|\n",
      "|kqtD5dpn9C8|This Python tutor...|2020-09-16T13:00:20Z|Programming with ...|Python for Beginn...|        1|\n",
      "|rWC2iFlN3TM|Halo teman-teman,...|2021-02-03T04:59:33Z|      Agung Setiawan|Tutorial Python B...|        2|\n",
      "|x7X9w_GIm1s|Python is arguabl...|2021-10-25T15:19:28Z|            Fireship|Python in 100 Sec...|        0|\n",
      "|NHquaDS6XQ0|99% of Python pro...|2022-09-29T23:51:42Z|            Indently|99% Of Python Pro...|        1|\n",
      "|G18YEjpwHDY|Tutorial belajar ...|2022-06-21T06:45:00Z|         Dea Afrizal|Tutorial Implemen...|        2|\n",
      "|XKHEtdqhLK8|Python tutorial f...|2021-02-15T15:00:12Z|            Bro Code|Python Full Cours...|        1|\n",
      "|-auWrbiaoGc|Yuk Belajar Pytho...|2020-04-20T03:00:02Z|       Kelas Terbuka|Belajar Python [D...|        2|\n",
      "|OaeHnwnlDqw|It's been six mon...|2021-04-16T11:59:48Z|        Nat Geo WILD|Feeding a Reticul...|        0|\n",
      "|t8pPdKYpowI|Python Tutorial f...|2021-03-05T14:10:17Z| TechWorld with Nana|Python Tutorial f...|        1|\n",
      "|E8NijUYfyus|Get better at Pyt...|2023-03-14T01:30:53Z|             mCoding|21 MORE nooby Pyt...|        1|\n",
      "|qecsnAXtms4|Today, I will be ...|2023-03-13T14:00:35Z|       Tech With Tim|The Truth About L...|        1|\n",
      "|b093aqAZiPU|In this step-by-s...|2021-03-25T10:00:08Z|     Kevin Stratvert|👩‍💻 Python for ...|        0|\n",
      "|ZkFKF-ohsKk|Get notified of t...|2023-03-07T04:26:42Z|    Nicholas Renotte|How to use the Ch...|        1|\n",
      "|aPhbz4fER0o|★ Gabung Menjadi ...|2022-02-24T13:00:11Z|YOUKU  Indonesia-...|INDO SUB (Snake I...|        2|\n",
      "|eWRfhZUzrAc|Learn the Python ...|2022-08-09T12:54:23Z|    freeCodeCamp.org|Python for Beginn...|        1|\n",
      "|bVc8kqh8dKk|🚀 Become a Real ...|2023-02-01T13:00:33Z| Internet Made Coder|How to MASTER Pyt...|        1|\n",
      "+-----------+--------------------+--------------------+--------------------+--------------------+---------+\n",
      "only showing top 20 rows\n",
      "\n"
     ]
    }
   ],
   "source": [
    "spark = SparkSession.builder \\\n",
    "    .master(\"local[1]\") \\\n",
    "    .appName(\"SparkByExamples.com\") \\\n",
    "    .getOrCreate()\n",
    "#Create PySpark DataFrame from Pandas\n",
    "sparkDF=spark.createDataFrame(pd_df) \n",
    "sparkDF.printSchema()\n",
    "sparkDF.show()"
   ]
  },
  {
   "cell_type": "code",
   "execution_count": 13,
   "metadata": {},
   "outputs": [
    {
     "name": "stderr",
     "output_type": "stream",
     "text": [
      "23/03/17 10:16:10 WARN MemoryManager: Total allocation exceeds 95.00% (906,992,014 bytes) of heap memory\n",
      "Scaling row group sizes to 96.54% for 7 writers\n",
      "23/03/17 10:16:10 WARN MemoryManager: Total allocation exceeds 95.00% (906,992,014 bytes) of heap memory\n",
      "Scaling row group sizes to 84.47% for 8 writers\n",
      "[Stage 5:>                                                          (0 + 8) / 8]23/03/17 10:16:11 WARN MemoryManager: Total allocation exceeds 95.00% (906,992,014 bytes) of heap memory\n",
      "Scaling row group sizes to 96.54% for 7 writers\n",
      "                                                                                \r"
     ]
    }
   ],
   "source": [
    "sparkDF.write.save('hdfs://localhost:9000/youtube_sentiment/', format='parquet', mode='append')"
   ]
  },
  {
   "cell_type": "code",
   "execution_count": 14,
   "metadata": {},
   "outputs": [
    {
     "name": "stdout",
     "output_type": "stream",
     "text": [
      "+-----------+--------------------+--------------------+--------------------+-------------------------+---------+\n",
      "|   video_id|         description|        published_at|        channel_name|              video_title|sentiment|\n",
      "+-----------+--------------------+--------------------+--------------------+-------------------------+---------+\n",
      "|ZkFKF-ohsKk|Get notified of t...|2023-03-07T04:26:42Z|    Nicholas Renotte|     How to use the Ch...|        1|\n",
      "|aPhbz4fER0o|★ Gabung Menjadi ...|2022-02-24T13:00:11Z|YOUKU  Indonesia-...|     INDO SUB (Snake I...|        2|\n",
      "|eWRfhZUzrAc|Learn the Python ...|2022-08-09T12:54:23Z|    freeCodeCamp.org|     Python for Beginn...|        1|\n",
      "|bVc8kqh8dKk|🚀 Become a Real ...|2023-02-01T13:00:33Z| Internet Made Coder|     How to MASTER Pyt...|        1|\n",
      "|Pl9RxjJ5--4|                    |2022-06-10T17:23:37Z|   Coding with Lewis|     How to be a Pytho...|        1|\n",
      "|YSF1xDhw30w|#filmchina #VSOIn...|2023-02-02T13:00:08Z|       VSO Indonesia|   【INDO SUB】Mutant ...|        1|\n",
      "|Xmcou3njCdA|Click to download...|2022-02-24T08:00:29Z|YOUKU MOVIE-Get A...|MULTISUB【蛇岛狂蟒 Sna...|        1|\n",
      "|vEQ8CXFWLZU|Build these simpl...|2022-07-12T12:00:40Z| Internet Made Coder|     3 PYTHON AUTOMATI...|        1|\n",
      "|Mp0vhMDI7fA|De onde vem o Pyt...|2017-04-03T14:00:02Z|      Curso em Vídeo|     Curso Python #02 ...|        1|\n",
      "|qUeud6DvOWI|Nooby Python habi...|2021-11-15T14:32:43Z|             mCoding|     25 nooby Python h...|        0|\n",
      "|IQjd272BLnw|🔎9º ep. da Tempo...|2023-03-08T14:35:50Z|               Alura|     Guia de Carreira ...|        1|\n",
      "|5KEObONUkik|Do you want to kn...|2023-03-03T16:00:03Z|          ArjanCodes|     How to Build a Co...|        1|\n",
      "|8DvywoWv6fI|This Python 3 tut...|2019-05-02T12:05:54Z|    freeCodeCamp.org|     Python for Everyb...|        2|\n",
      "|zRjbwI4K7xc|Python es uno de ...|2022-11-04T20:43:53Z|              EDteam|     ¿Qué es Python y ...|        0|\n",
      "|th4OBktqK1I|In this video I'm...|2022-09-24T13:00:27Z|       Tech With Tim|     Learn Python With...|        1|\n",
      "|b6Y5CzFM0Oc|Halo teman-teman,...|2021-03-03T04:57:38Z|      Agung Setiawan|     Tutorial Python O...|        1|\n",
      "|G18YEjpwHDY|Tutorial belajar ...|2022-06-21T06:45:00Z|         Dea Afrizal|     Tutorial Implemen...|        2|\n",
      "|XKHEtdqhLK8|Python tutorial f...|2021-02-15T15:00:12Z|            Bro Code|     Python Full Cours...|        1|\n",
      "|-auWrbiaoGc|Yuk Belajar Pytho...|2020-04-20T03:00:02Z|       Kelas Terbuka|     Belajar Python [D...|        2|\n",
      "|OaeHnwnlDqw|It's been six mon...|2021-04-16T11:59:48Z|        Nat Geo WILD|     Feeding a Reticul...|        0|\n",
      "+-----------+--------------------+--------------------+--------------------+-------------------------+---------+\n",
      "only showing top 20 rows\n",
      "\n"
     ]
    }
   ],
   "source": [
    "#test hasil loading inference data\n",
    "load_df = sqlContext.read.parquet(\"hdfs://localhost:9000/youtube_sentiment/*.parquet\")\n",
    "load_df.show()"
   ]
  },
  {
   "cell_type": "code",
   "execution_count": null,
   "metadata": {},
   "outputs": [],
   "source": []
  }
 ],
 "metadata": {
  "kernelspec": {
   "display_name": "Python 3 (ipykernel)",
   "language": "python",
   "name": "python3"
  },
  "language_info": {
   "codemirror_mode": {
    "name": "ipython",
    "version": 3
   },
   "file_extension": ".py",
   "mimetype": "text/x-python",
   "name": "python",
   "nbconvert_exporter": "python",
   "pygments_lexer": "ipython3",
   "version": "3.9.7"
  }
 },
 "nbformat": 4,
 "nbformat_minor": 2
}
